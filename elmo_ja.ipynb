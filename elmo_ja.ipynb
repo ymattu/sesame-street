{
 "cells": [
  {
   "cell_type": "code",
   "execution_count": 2,
   "metadata": {
    "collapsed": true
   },
   "outputs": [],
   "source": [
    "import pickle"
   ]
  },
  {
   "cell_type": "code",
   "execution_count": 6,
   "metadata": {
    "collapsed": true
   },
   "outputs": [],
   "source": [
    "from elmoformanylangs import Embedder"
   ]
  },
  {
   "cell_type": "code",
   "execution_count": 10,
   "metadata": {},
   "outputs": [
    {
     "name": "stderr",
     "output_type": "stream",
     "text": [
      "2018-11-19 17:00:28,346 INFO: char embedding size: 8817\n",
      "2018-11-19 17:00:29,227 INFO: word embedding size: 195809\n",
      "2018-11-19 17:00:35,277 INFO: Model(\n",
      "  (token_embedder): ConvTokenEmbedder(\n",
      "    (word_emb_layer): EmbeddingLayer(\n",
      "      (embedding): Embedding(195809, 100, padding_idx=3)\n",
      "    )\n",
      "    (char_emb_layer): EmbeddingLayer(\n",
      "      (embedding): Embedding(8817, 50, padding_idx=8814)\n",
      "    )\n",
      "    (convolutions): ModuleList(\n",
      "      (0): Conv1d(50, 32, kernel_size=(1,), stride=(1,))\n",
      "      (1): Conv1d(50, 32, kernel_size=(2,), stride=(1,))\n",
      "      (2): Conv1d(50, 64, kernel_size=(3,), stride=(1,))\n",
      "      (3): Conv1d(50, 128, kernel_size=(4,), stride=(1,))\n",
      "      (4): Conv1d(50, 256, kernel_size=(5,), stride=(1,))\n",
      "      (5): Conv1d(50, 512, kernel_size=(6,), stride=(1,))\n",
      "      (6): Conv1d(50, 1024, kernel_size=(7,), stride=(1,))\n",
      "    )\n",
      "    (highways): Highway(\n",
      "      (_layers): ModuleList(\n",
      "        (0): Linear(in_features=2048, out_features=4096, bias=True)\n",
      "        (1): Linear(in_features=2048, out_features=4096, bias=True)\n",
      "      )\n",
      "    )\n",
      "    (projection): Linear(in_features=2148, out_features=512, bias=True)\n",
      "  )\n",
      "  (encoder): ElmobiLm(\n",
      "    (forward_layer_0): LstmCellWithProjection(\n",
      "      (input_linearity): Linear(in_features=512, out_features=16384, bias=False)\n",
      "      (state_linearity): Linear(in_features=512, out_features=16384, bias=True)\n",
      "      (state_projection): Linear(in_features=4096, out_features=512, bias=False)\n",
      "    )\n",
      "    (backward_layer_0): LstmCellWithProjection(\n",
      "      (input_linearity): Linear(in_features=512, out_features=16384, bias=False)\n",
      "      (state_linearity): Linear(in_features=512, out_features=16384, bias=True)\n",
      "      (state_projection): Linear(in_features=4096, out_features=512, bias=False)\n",
      "    )\n",
      "    (forward_layer_1): LstmCellWithProjection(\n",
      "      (input_linearity): Linear(in_features=512, out_features=16384, bias=False)\n",
      "      (state_linearity): Linear(in_features=512, out_features=16384, bias=True)\n",
      "      (state_projection): Linear(in_features=4096, out_features=512, bias=False)\n",
      "    )\n",
      "    (backward_layer_1): LstmCellWithProjection(\n",
      "      (input_linearity): Linear(in_features=512, out_features=16384, bias=False)\n",
      "      (state_linearity): Linear(in_features=512, out_features=16384, bias=True)\n",
      "      (state_projection): Linear(in_features=4096, out_features=512, bias=False)\n",
      "    )\n",
      "  )\n",
      ")\n"
     ]
    }
   ],
   "source": [
    "e = Embedder('data/160')"
   ]
  },
  {
   "cell_type": "code",
   "execution_count": 11,
   "metadata": {
    "collapsed": true
   },
   "outputs": [],
   "source": [
    "sents = [['今日', 'の', '天気', 'は', '晴れ', 'です'],\n",
    "['今日', 'は', '彼', 'に', 'とって', '晴れ', 'の', '日', 'だ']]"
   ]
  },
  {
   "cell_type": "code",
   "execution_count": 12,
   "metadata": {},
   "outputs": [
    {
     "name": "stderr",
     "output_type": "stream",
     "text": [
      "2018-11-19 17:48:43,878 INFO: 1 batches, avg len: 9.5\n"
     ]
    },
    {
     "data": {
      "text/plain": [
       "[array([[-0.2820234 , -0.4628061 ,  0.37095022, ..., -0.27209893,\n",
       "          0.5449384 , -0.14126633],\n",
       "        [-0.30386305, -0.28294396,  0.25362656, ..., -0.12562917,\n",
       "          0.40213063,  0.5125557 ],\n",
       "        [-0.49956617, -0.3572332 ,  0.25505674, ..., -0.2375058 ,\n",
       "          0.36341515,  0.17853884],\n",
       "        [-0.1819505 , -0.18912566,  0.20564486, ...,  0.25325748,\n",
       "          0.10789496,  0.12528078],\n",
       "        [-0.05625492,  0.00531847, -0.06040135, ...,  0.12725167,\n",
       "          0.21052466, -0.32325584],\n",
       "        [-0.5677027 , -0.25023034,  0.13795514, ..., -0.1122782 ,\n",
       "          0.47104934, -0.33564922]], dtype=float32),\n",
       " array([[-0.2820234 , -0.4628061 ,  0.37095022, ..., -0.28853914,\n",
       "          0.22258496, -0.5048278 ],\n",
       "        [-0.18116784, -0.25427857,  0.16418785, ...,  0.28890148,\n",
       "         -0.16372855,  0.29259115],\n",
       "        [-0.32538632,  0.12289985,  0.6494353 , ..., -0.03927118,\n",
       "         -0.12154126, -0.05644932],\n",
       "        ...,\n",
       "        [-0.480539  , -0.0902554 ,  0.36228657, ...,  0.01898655,\n",
       "         -0.06577893,  0.30256835],\n",
       "        [-0.6568041 , -0.35874125,  0.0170126 , ...,  0.19896962,\n",
       "          0.5950447 ,  0.23206407],\n",
       "        [-0.314525  ,  0.02936965,  0.10223023, ...,  0.05246314,\n",
       "          0.0779684 , -0.19883458]], dtype=float32)]"
      ]
     },
     "execution_count": 12,
     "metadata": {},
     "output_type": "execute_result"
    }
   ],
   "source": [
    "e.sents2elmo(sents)"
   ]
  },
  {
   "cell_type": "code",
   "execution_count": null,
   "metadata": {
    "collapsed": true
   },
   "outputs": [],
   "source": []
  }
 ],
 "metadata": {
  "kernelspec": {
   "display_name": "Python 3",
   "language": "python",
   "name": "python3"
  },
  "language_info": {
   "codemirror_mode": {
    "name": "ipython",
    "version": 3
   },
   "file_extension": ".py",
   "mimetype": "text/x-python",
   "name": "python",
   "nbconvert_exporter": "python",
   "pygments_lexer": "ipython3",
   "version": "3.6.3"
  }
 },
 "nbformat": 4,
 "nbformat_minor": 2
}
